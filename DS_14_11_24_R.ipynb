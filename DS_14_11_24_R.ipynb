{
  "nbformat": 4,
  "nbformat_minor": 0,
  "metadata": {
    "colab": {
      "provenance": [],
      "authorship_tag": "ABX9TyOo4mCx/+Cab4ysVKOCL26U",
      "include_colab_link": true
    },
    "kernelspec": {
      "name": "ir",
      "display_name": "R"
    },
    "language_info": {
      "name": "R"
    }
  },
  "cells": [
    {
      "cell_type": "markdown",
      "metadata": {
        "id": "view-in-github",
        "colab_type": "text"
      },
      "source": [
        "<a href=\"https://colab.research.google.com/github/AlinaMidhath/python_fundamentals/blob/main/DS_14_11_24_R.ipynb\" target=\"_parent\"><img src=\"https://colab.research.google.com/assets/colab-badge.svg\" alt=\"Open In Colab\"/></a>"
      ]
    },
    {
      "cell_type": "code",
      "execution_count": null,
      "metadata": {
        "colab": {
          "base_uri": "https://localhost:8080/",
          "height": 286
        },
        "id": "CNZdUY5FaBU6",
        "outputId": "9c184e73-7d14-45e1-8a30-0b16ec27a71b"
      },
      "outputs": [
        {
          "output_type": "display_data",
          "data": {
            "text/html": [
              "<table class=\"dataframe\">\n",
              "<caption>A data.frame: 6 × 3</caption>\n",
              "<thead>\n",
              "\t<tr><th></th><th scope=col>datasrno</th><th scope=col>workex</th><th scope=col>gmat</th></tr>\n",
              "\t<tr><th></th><th scope=col>&lt;int&gt;</th><th scope=col>&lt;int&gt;</th><th scope=col>&lt;int&gt;</th></tr>\n",
              "</thead>\n",
              "<tbody>\n",
              "\t<tr><th scope=row>1</th><td>1</td><td> 21</td><td>720</td></tr>\n",
              "\t<tr><th scope=row>2</th><td>2</td><td>107</td><td>640</td></tr>\n",
              "\t<tr><th scope=row>3</th><td>3</td><td> 57</td><td>740</td></tr>\n",
              "\t<tr><th scope=row>4</th><td>4</td><td> 99</td><td>690</td></tr>\n",
              "\t<tr><th scope=row>5</th><td>5</td><td>208</td><td>710</td></tr>\n",
              "\t<tr><th scope=row>6</th><td>6</td><td>136</td><td>660</td></tr>\n",
              "</tbody>\n",
              "</table>\n"
            ],
            "text/markdown": "\nA data.frame: 6 × 3\n\n| <!--/--> | datasrno &lt;int&gt; | workex &lt;int&gt; | gmat &lt;int&gt; |\n|---|---|---|---|\n| 1 | 1 |  21 | 720 |\n| 2 | 2 | 107 | 640 |\n| 3 | 3 |  57 | 740 |\n| 4 | 4 |  99 | 690 |\n| 5 | 5 | 208 | 710 |\n| 6 | 6 | 136 | 660 |\n\n",
            "text/latex": "A data.frame: 6 × 3\n\\begin{tabular}{r|lll}\n  & datasrno & workex & gmat\\\\\n  & <int> & <int> & <int>\\\\\n\\hline\n\t1 & 1 &  21 & 720\\\\\n\t2 & 2 & 107 & 640\\\\\n\t3 & 3 &  57 & 740\\\\\n\t4 & 4 &  99 & 690\\\\\n\t5 & 5 & 208 & 710\\\\\n\t6 & 6 & 136 & 660\\\\\n\\end{tabular}\n",
            "text/plain": [
              "  datasrno workex gmat\n",
              "1 1         21    720 \n",
              "2 2        107    640 \n",
              "3 3         57    740 \n",
              "4 4         99    690 \n",
              "5 5        208    710 \n",
              "6 6        136    660 "
            ]
          },
          "metadata": {}
        }
      ],
      "source": [
        "# prompt: Can uoy read this file /content/mba.csv in R\n",
        "\n",
        "df <- read.csv(\"/content/mba.csv\")\n",
        "head(df)"
      ]
    },
    {
      "cell_type": "code",
      "source": [
        "mean(df$gmat)"
      ],
      "metadata": {
        "colab": {
          "base_uri": "https://localhost:8080/",
          "height": 34
        },
        "id": "Nxuct9hkahGV",
        "outputId": "f53bc880-af83-455f-8f7f-3eacd83f12da"
      },
      "execution_count": null,
      "outputs": [
        {
          "output_type": "display_data",
          "data": {
            "text/html": [
              "711.164294954722"
            ],
            "text/markdown": "711.164294954722",
            "text/latex": "711.164294954722",
            "text/plain": [
              "[1] 711.1643"
            ]
          },
          "metadata": {}
        }
      ]
    },
    {
      "cell_type": "code",
      "source": [
        "View(df)"
      ],
      "metadata": {
        "colab": {
          "base_uri": "https://localhost:8080/",
          "height": 1000
        },
        "id": "7ZgR37bOamPb",
        "outputId": "6aada560-7b2b-4b83-e6e4-491d9d703556"
      },
      "execution_count": null,
      "outputs": [
        {
          "output_type": "display_data",
          "data": {
            "text/plain": [
              "    datasrno workex gmat\n",
              "1    1        21    720 \n",
              "2    2       107    640 \n",
              "3    3        57    740 \n",
              "4    4        99    690 \n",
              "5    5       208    710 \n",
              "6    6       136    660 \n",
              "7    7        70    660 \n",
              "8    8       103    710 \n",
              "9    9        79    700 \n",
              "10  10        22    730 \n",
              "11  11        69    700 \n",
              "12  12        41    740 \n",
              "13  13        72    650 \n",
              "14  14        69    720 \n",
              "15  15        20    700 \n",
              "16  16        21    760 \n",
              "17  17        19    710 \n",
              "18  18        86    720 \n",
              "19  19       231    690 \n",
              "20  20        20    770 \n",
              "21  21       175    660 \n",
              "22  22        21    710 \n",
              "23  23        44    720 \n",
              "24  24        23    650 \n",
              "25  25        20    710 \n",
              "26  26        70    720 \n",
              "27  27        46    710 \n",
              "28  28        33    650 \n",
              "29  29       130    690 \n",
              "30  30        57    690 \n",
              "⋮   ⋮        ⋮      ⋮   \n",
              "744 744       94    740 \n",
              "745 745      105    710 \n",
              "746 746       95    710 \n",
              "747 747       43    720 \n",
              "748 748       89    710 \n",
              "749 749       68    730 \n",
              "750 750       46    750 \n",
              "751 751       69    740 \n",
              "752 752       93    710 \n",
              "753 753       60    680 \n",
              "754 754       69    740 \n",
              "755 755       68    740 \n",
              "756 756       46    730 \n",
              "757 757       23    770 \n",
              "758 758       50    720 \n",
              "759 759       33    680 \n",
              "760 760       39    680 \n",
              "761 761       34    740 \n",
              "762 762       69    680 \n",
              "763 763       34    710 \n",
              "764 764       31    710 \n",
              "765 765       29    710 \n",
              "766 766       46    750 \n",
              "767 767       44    620 \n",
              "768 768       38    680 \n",
              "769 769       88    620 \n",
              "770 770      132    670 \n",
              "771 771       28    610 \n",
              "772 772       10    610 \n",
              "773 773       52    620 "
            ],
            "text/html": [
              "<table class=\"dataframe\">\n",
              "<caption>A data.frame: 773 × 3</caption>\n",
              "<thead>\n",
              "\t<tr><th scope=col>datasrno</th><th scope=col>workex</th><th scope=col>gmat</th></tr>\n",
              "\t<tr><th scope=col>&lt;int&gt;</th><th scope=col>&lt;int&gt;</th><th scope=col>&lt;int&gt;</th></tr>\n",
              "</thead>\n",
              "<tbody>\n",
              "\t<tr><td> 1</td><td> 21</td><td>720</td></tr>\n",
              "\t<tr><td> 2</td><td>107</td><td>640</td></tr>\n",
              "\t<tr><td> 3</td><td> 57</td><td>740</td></tr>\n",
              "\t<tr><td> 4</td><td> 99</td><td>690</td></tr>\n",
              "\t<tr><td> 5</td><td>208</td><td>710</td></tr>\n",
              "\t<tr><td> 6</td><td>136</td><td>660</td></tr>\n",
              "\t<tr><td> 7</td><td> 70</td><td>660</td></tr>\n",
              "\t<tr><td> 8</td><td>103</td><td>710</td></tr>\n",
              "\t<tr><td> 9</td><td> 79</td><td>700</td></tr>\n",
              "\t<tr><td>10</td><td> 22</td><td>730</td></tr>\n",
              "\t<tr><td>11</td><td> 69</td><td>700</td></tr>\n",
              "\t<tr><td>12</td><td> 41</td><td>740</td></tr>\n",
              "\t<tr><td>13</td><td> 72</td><td>650</td></tr>\n",
              "\t<tr><td>14</td><td> 69</td><td>720</td></tr>\n",
              "\t<tr><td>15</td><td> 20</td><td>700</td></tr>\n",
              "\t<tr><td>16</td><td> 21</td><td>760</td></tr>\n",
              "\t<tr><td>17</td><td> 19</td><td>710</td></tr>\n",
              "\t<tr><td>18</td><td> 86</td><td>720</td></tr>\n",
              "\t<tr><td>19</td><td>231</td><td>690</td></tr>\n",
              "\t<tr><td>20</td><td> 20</td><td>770</td></tr>\n",
              "\t<tr><td>21</td><td>175</td><td>660</td></tr>\n",
              "\t<tr><td>22</td><td> 21</td><td>710</td></tr>\n",
              "\t<tr><td>23</td><td> 44</td><td>720</td></tr>\n",
              "\t<tr><td>24</td><td> 23</td><td>650</td></tr>\n",
              "\t<tr><td>25</td><td> 20</td><td>710</td></tr>\n",
              "\t<tr><td>26</td><td> 70</td><td>720</td></tr>\n",
              "\t<tr><td>27</td><td> 46</td><td>710</td></tr>\n",
              "\t<tr><td>28</td><td> 33</td><td>650</td></tr>\n",
              "\t<tr><td>29</td><td>130</td><td>690</td></tr>\n",
              "\t<tr><td>30</td><td> 57</td><td>690</td></tr>\n",
              "\t<tr><td>⋮</td><td>⋮</td><td>⋮</td></tr>\n",
              "\t<tr><td>744</td><td> 94</td><td>740</td></tr>\n",
              "\t<tr><td>745</td><td>105</td><td>710</td></tr>\n",
              "\t<tr><td>746</td><td> 95</td><td>710</td></tr>\n",
              "\t<tr><td>747</td><td> 43</td><td>720</td></tr>\n",
              "\t<tr><td>748</td><td> 89</td><td>710</td></tr>\n",
              "\t<tr><td>749</td><td> 68</td><td>730</td></tr>\n",
              "\t<tr><td>750</td><td> 46</td><td>750</td></tr>\n",
              "\t<tr><td>751</td><td> 69</td><td>740</td></tr>\n",
              "\t<tr><td>752</td><td> 93</td><td>710</td></tr>\n",
              "\t<tr><td>753</td><td> 60</td><td>680</td></tr>\n",
              "\t<tr><td>754</td><td> 69</td><td>740</td></tr>\n",
              "\t<tr><td>755</td><td> 68</td><td>740</td></tr>\n",
              "\t<tr><td>756</td><td> 46</td><td>730</td></tr>\n",
              "\t<tr><td>757</td><td> 23</td><td>770</td></tr>\n",
              "\t<tr><td>758</td><td> 50</td><td>720</td></tr>\n",
              "\t<tr><td>759</td><td> 33</td><td>680</td></tr>\n",
              "\t<tr><td>760</td><td> 39</td><td>680</td></tr>\n",
              "\t<tr><td>761</td><td> 34</td><td>740</td></tr>\n",
              "\t<tr><td>762</td><td> 69</td><td>680</td></tr>\n",
              "\t<tr><td>763</td><td> 34</td><td>710</td></tr>\n",
              "\t<tr><td>764</td><td> 31</td><td>710</td></tr>\n",
              "\t<tr><td>765</td><td> 29</td><td>710</td></tr>\n",
              "\t<tr><td>766</td><td> 46</td><td>750</td></tr>\n",
              "\t<tr><td>767</td><td> 44</td><td>620</td></tr>\n",
              "\t<tr><td>768</td><td> 38</td><td>680</td></tr>\n",
              "\t<tr><td>769</td><td> 88</td><td>620</td></tr>\n",
              "\t<tr><td>770</td><td>132</td><td>670</td></tr>\n",
              "\t<tr><td>771</td><td> 28</td><td>610</td></tr>\n",
              "\t<tr><td>772</td><td> 10</td><td>610</td></tr>\n",
              "\t<tr><td>773</td><td> 52</td><td>620</td></tr>\n",
              "</tbody>\n",
              "</table>\n"
            ],
            "text/markdown": "\nA data.frame: 773 × 3\n\n| datasrno &lt;int&gt; | workex &lt;int&gt; | gmat &lt;int&gt; |\n|---|---|---|\n|  1 |  21 | 720 |\n|  2 | 107 | 640 |\n|  3 |  57 | 740 |\n|  4 |  99 | 690 |\n|  5 | 208 | 710 |\n|  6 | 136 | 660 |\n|  7 |  70 | 660 |\n|  8 | 103 | 710 |\n|  9 |  79 | 700 |\n| 10 |  22 | 730 |\n| 11 |  69 | 700 |\n| 12 |  41 | 740 |\n| 13 |  72 | 650 |\n| 14 |  69 | 720 |\n| 15 |  20 | 700 |\n| 16 |  21 | 760 |\n| 17 |  19 | 710 |\n| 18 |  86 | 720 |\n| 19 | 231 | 690 |\n| 20 |  20 | 770 |\n| 21 | 175 | 660 |\n| 22 |  21 | 710 |\n| 23 |  44 | 720 |\n| 24 |  23 | 650 |\n| 25 |  20 | 710 |\n| 26 |  70 | 720 |\n| 27 |  46 | 710 |\n| 28 |  33 | 650 |\n| 29 | 130 | 690 |\n| 30 |  57 | 690 |\n| ⋮ | ⋮ | ⋮ |\n| 744 |  94 | 740 |\n| 745 | 105 | 710 |\n| 746 |  95 | 710 |\n| 747 |  43 | 720 |\n| 748 |  89 | 710 |\n| 749 |  68 | 730 |\n| 750 |  46 | 750 |\n| 751 |  69 | 740 |\n| 752 |  93 | 710 |\n| 753 |  60 | 680 |\n| 754 |  69 | 740 |\n| 755 |  68 | 740 |\n| 756 |  46 | 730 |\n| 757 |  23 | 770 |\n| 758 |  50 | 720 |\n| 759 |  33 | 680 |\n| 760 |  39 | 680 |\n| 761 |  34 | 740 |\n| 762 |  69 | 680 |\n| 763 |  34 | 710 |\n| 764 |  31 | 710 |\n| 765 |  29 | 710 |\n| 766 |  46 | 750 |\n| 767 |  44 | 620 |\n| 768 |  38 | 680 |\n| 769 |  88 | 620 |\n| 770 | 132 | 670 |\n| 771 |  28 | 610 |\n| 772 |  10 | 610 |\n| 773 |  52 | 620 |\n\n",
            "text/latex": "A data.frame: 773 × 3\n\\begin{tabular}{lll}\n datasrno & workex & gmat\\\\\n <int> & <int> & <int>\\\\\n\\hline\n\t  1 &  21 & 720\\\\\n\t  2 & 107 & 640\\\\\n\t  3 &  57 & 740\\\\\n\t  4 &  99 & 690\\\\\n\t  5 & 208 & 710\\\\\n\t  6 & 136 & 660\\\\\n\t  7 &  70 & 660\\\\\n\t  8 & 103 & 710\\\\\n\t  9 &  79 & 700\\\\\n\t 10 &  22 & 730\\\\\n\t 11 &  69 & 700\\\\\n\t 12 &  41 & 740\\\\\n\t 13 &  72 & 650\\\\\n\t 14 &  69 & 720\\\\\n\t 15 &  20 & 700\\\\\n\t 16 &  21 & 760\\\\\n\t 17 &  19 & 710\\\\\n\t 18 &  86 & 720\\\\\n\t 19 & 231 & 690\\\\\n\t 20 &  20 & 770\\\\\n\t 21 & 175 & 660\\\\\n\t 22 &  21 & 710\\\\\n\t 23 &  44 & 720\\\\\n\t 24 &  23 & 650\\\\\n\t 25 &  20 & 710\\\\\n\t 26 &  70 & 720\\\\\n\t 27 &  46 & 710\\\\\n\t 28 &  33 & 650\\\\\n\t 29 & 130 & 690\\\\\n\t 30 &  57 & 690\\\\\n\t ⋮ & ⋮ & ⋮\\\\\n\t 744 &  94 & 740\\\\\n\t 745 & 105 & 710\\\\\n\t 746 &  95 & 710\\\\\n\t 747 &  43 & 720\\\\\n\t 748 &  89 & 710\\\\\n\t 749 &  68 & 730\\\\\n\t 750 &  46 & 750\\\\\n\t 751 &  69 & 740\\\\\n\t 752 &  93 & 710\\\\\n\t 753 &  60 & 680\\\\\n\t 754 &  69 & 740\\\\\n\t 755 &  68 & 740\\\\\n\t 756 &  46 & 730\\\\\n\t 757 &  23 & 770\\\\\n\t 758 &  50 & 720\\\\\n\t 759 &  33 & 680\\\\\n\t 760 &  39 & 680\\\\\n\t 761 &  34 & 740\\\\\n\t 762 &  69 & 680\\\\\n\t 763 &  34 & 710\\\\\n\t 764 &  31 & 710\\\\\n\t 765 &  29 & 710\\\\\n\t 766 &  46 & 750\\\\\n\t 767 &  44 & 620\\\\\n\t 768 &  38 & 680\\\\\n\t 769 &  88 & 620\\\\\n\t 770 & 132 & 670\\\\\n\t 771 &  28 & 610\\\\\n\t 772 &  10 & 610\\\\\n\t 773 &  52 & 620\\\\\n\\end{tabular}\n"
          },
          "metadata": {}
        }
      ]
    },
    {
      "cell_type": "code",
      "source": [],
      "metadata": {
        "id": "BwX_ID4ibGsg"
      },
      "execution_count": null,
      "outputs": []
    }
  ]
}