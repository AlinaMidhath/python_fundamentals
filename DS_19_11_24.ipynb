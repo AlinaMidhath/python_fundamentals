{
  "nbformat": 4,
  "nbformat_minor": 0,
  "metadata": {
    "colab": {
      "provenance": [],
      "authorship_tag": "ABX9TyM9j6DC8i/+/fNSeNzAeGRx",
      "include_colab_link": true
    },
    "kernelspec": {
      "name": "ir",
      "display_name": "R"
    },
    "language_info": {
      "name": "R"
    }
  },
  "cells": [
    {
      "cell_type": "markdown",
      "metadata": {
        "id": "view-in-github",
        "colab_type": "text"
      },
      "source": [
        "<a href=\"https://colab.research.google.com/github/AlinaMidhath/python_fundamentals/blob/main/DS_19_11_24.ipynb\" target=\"_parent\"><img src=\"https://colab.research.google.com/assets/colab-badge.svg\" alt=\"Open In Colab\"/></a>"
      ]
    },
    {
      "cell_type": "markdown",
      "source": [
        "**NORMAL DISTRIBUTION**\n"
      ],
      "metadata": {
        "id": "OvXWN5P5IBQT"
      }
    },
    {
      "cell_type": "markdown",
      "source": [
        "USING PYTHON\n"
      ],
      "metadata": {
        "id": "1qlHX0BQIYRL"
      }
    },
    {
      "cell_type": "code",
      "execution_count": 1,
      "metadata": {
        "colab": {
          "base_uri": "https://localhost:8080/"
        },
        "id": "jkKu7x5hGUlY",
        "outputId": "206954cb-31b1-4bf0-a1fc-d17c53c8eacc"
      },
      "outputs": [
        {
          "output_type": "execute_result",
          "data": {
            "text/plain": [
              "0.8413447460685429"
            ]
          },
          "metadata": {},
          "execution_count": 1
        }
      ],
      "source": [
        "import scipy\n",
        "from scipy import stats\n",
        "stats.norm.cdf(70,60,10) # x=70, mean=60, SD=10"
      ]
    },
    {
      "cell_type": "code",
      "source": [
        "stats.norm.cdf(1) # Z Score"
      ],
      "metadata": {
        "colab": {
          "base_uri": "https://localhost:8080/"
        },
        "id": "ZO5cvgEmGjzc",
        "outputId": "9e15ba14-77ea-4414-f0f1-4a9500cf5485"
      },
      "execution_count": 2,
      "outputs": [
        {
          "output_type": "execute_result",
          "data": {
            "text/plain": [
              "0.8413447460685429"
            ]
          },
          "metadata": {},
          "execution_count": 2
        }
      ]
    },
    {
      "cell_type": "code",
      "source": [
        "#what is the probability that gmat score of a sstudetn in less that 680\n",
        "stats.norm.cdf(680,711,29)"
      ],
      "metadata": {
        "colab": {
          "base_uri": "https://localhost:8080/"
        },
        "id": "sedyEWocGoUY",
        "outputId": "5d21a4fa-954b-4a4e-8288-da6da5c0c84e"
      },
      "execution_count": 4,
      "outputs": [
        {
          "output_type": "execute_result",
          "data": {
            "text/plain": [
              "0.14254260383881612"
            ]
          },
          "metadata": {},
          "execution_count": 4
        }
      ]
    },
    {
      "cell_type": "code",
      "source": [
        "#probability that gmat score is greater than 680\n",
        "1-stats.norm.cdf(680,711,29)"
      ],
      "metadata": {
        "colab": {
          "base_uri": "https://localhost:8080/"
        },
        "id": "EwsV0wx2HDjN",
        "outputId": "2fdf250b-44b6-4ef6-f707-d15cdcb8f114"
      },
      "execution_count": 5,
      "outputs": [
        {
          "output_type": "execute_result",
          "data": {
            "text/plain": [
              "0.8574573961611839"
            ]
          },
          "metadata": {},
          "execution_count": 5
        }
      ]
    },
    {
      "cell_type": "code",
      "source": [
        "#probobility that gmat score lies between 697 and 740\n",
        "stats.norm.cdf(740,711,29) -stats.norm.cdf(697,711,29)"
      ],
      "metadata": {
        "colab": {
          "base_uri": "https://localhost:8080/"
        },
        "id": "JSde-0buHTUr",
        "outputId": "16f3e9ec-bbb0-4eb0-e2b2-819bff5f2e4c"
      },
      "execution_count": 6,
      "outputs": [
        {
          "output_type": "execute_result",
          "data": {
            "text/plain": [
              "0.5267111786415019"
            ]
          },
          "metadata": {},
          "execution_count": 6
        }
      ]
    },
    {
      "cell_type": "markdown",
      "source": [
        "USING R"
      ],
      "metadata": {
        "id": "tU4nYhT0ILPQ"
      }
    },
    {
      "cell_type": "code",
      "source": [
        "pnorm(70,60,10)"
      ],
      "metadata": {
        "colab": {
          "base_uri": "https://localhost:8080/",
          "height": 34
        },
        "id": "2xt9h2EFHsMQ",
        "outputId": "92ee262f-eef7-4225-8a11-c68c75e6f79d"
      },
      "execution_count": 1,
      "outputs": [
        {
          "output_type": "display_data",
          "data": {
            "text/html": [
              "0.841344746068543"
            ],
            "text/markdown": "0.841344746068543",
            "text/latex": "0.841344746068543",
            "text/plain": [
              "[1] 0.8413447"
            ]
          },
          "metadata": {}
        }
      ]
    },
    {
      "cell_type": "code",
      "source": [
        "#what is the probability that gmat score of a sstudetn in less that 680\n",
        "pnorm(680,711,29)"
      ],
      "metadata": {
        "colab": {
          "base_uri": "https://localhost:8080/",
          "height": 34
        },
        "id": "ZUjDaNeKIRLi",
        "outputId": "b9cb5ab1-fe2c-4944-eac6-81ee02128c65"
      },
      "execution_count": 2,
      "outputs": [
        {
          "output_type": "display_data",
          "data": {
            "text/html": [
              "0.142542603838816"
            ],
            "text/markdown": "0.142542603838816",
            "text/latex": "0.142542603838816",
            "text/plain": [
              "[1] 0.1425426"
            ]
          },
          "metadata": {}
        }
      ]
    },
    {
      "cell_type": "code",
      "source": [
        "#probobility that gmat score lies between 697 and 740\n",
        "pnorm(740,711,29) -pnorm(697,711,29)"
      ],
      "metadata": {
        "colab": {
          "base_uri": "https://localhost:8080/",
          "height": 34
        },
        "id": "WDFkOdhTI5xN",
        "outputId": "446cf9c5-4f68-4f6d-ea4a-8a8a85308b72"
      },
      "execution_count": 3,
      "outputs": [
        {
          "output_type": "display_data",
          "data": {
            "text/html": [
              "0.526711178641502"
            ],
            "text/markdown": "0.526711178641502",
            "text/latex": "0.526711178641502",
            "text/plain": [
              "[1] 0.5267112"
            ]
          },
          "metadata": {}
        }
      ]
    },
    {
      "cell_type": "code",
      "source": [],
      "metadata": {
        "id": "RAqDFYyUJCYj"
      },
      "execution_count": null,
      "outputs": []
    }
  ]
}