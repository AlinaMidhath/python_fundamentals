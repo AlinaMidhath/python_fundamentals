{
  "cells": [
    {
      "cell_type": "markdown",
      "metadata": {
        "id": "view-in-github",
        "colab_type": "text"
      },
      "source": [
        "<a href=\"https://colab.research.google.com/github/AlinaMidhath/python_fundamentals/blob/main/Confidence_Interval_updated.ipynb\" target=\"_parent\"><img src=\"https://colab.research.google.com/assets/colab-badge.svg\" alt=\"Open In Colab\"/></a>"
      ]
    },
    {
      "cell_type": "code",
      "execution_count": 1,
      "metadata": {
        "ExecuteTime": {
          "end_time": "2022-12-09T04:40:41.349278Z",
          "start_time": "2022-12-09T04:40:39.672372Z"
        },
        "id": "FQFloE7_SQv-"
      },
      "outputs": [],
      "source": [
        "from scipy import stats\n",
        "import pandas as pd\n",
        "import numpy as np\n"
      ]
    },
    {
      "cell_type": "code",
      "execution_count": 2,
      "metadata": {
        "ExecuteTime": {
          "end_time": "2022-12-09T04:40:42.851963Z",
          "start_time": "2022-12-09T04:40:42.805337Z"
        },
        "colab": {
          "base_uri": "https://localhost:8080/"
        },
        "id": "0KZx2w4bSQwE",
        "outputId": "66889fd6-2cdf-409d-cd2d-e2a168f6c4ed"
      },
      "outputs": [
        {
          "output_type": "stream",
          "name": "stdout",
          "text": [
            "            Date      Date.1    Close      gain\n",
            "0     2010-01-05  2010-01-05  1616.80 -0.005444\n",
            "1     2010-01-06  2010-01-06  1638.50  0.013422\n",
            "2     2010-01-07  2010-01-07  1648.70  0.006225\n",
            "3     2010-01-08  2010-01-08  1639.80 -0.005398\n",
            "4     2010-01-11  2010-01-11  1629.45 -0.006312\n",
            "...          ...         ...      ...       ...\n",
            "1733  2016-12-26  2016-12-26  2723.50 -0.001283\n",
            "1734  2016-12-27  2016-12-27  2701.75 -0.007986\n",
            "1735  2016-12-28  2016-12-28  2702.15  0.000148\n",
            "1736  2016-12-29  2016-12-29  2727.90  0.009529\n",
            "1737  2016-12-30  2016-12-30  2729.80  0.000697\n",
            "\n",
            "[1738 rows x 4 columns]\n"
          ]
        }
      ],
      "source": [
        "glaxo_df=pd.read_csv('glaxo_df.csv')\n",
        "print(glaxo_df)"
      ]
    },
    {
      "cell_type": "code",
      "execution_count": 3,
      "metadata": {
        "ExecuteTime": {
          "end_time": "2022-12-09T04:44:06.025013Z",
          "start_time": "2022-12-09T04:44:06.010637Z"
        },
        "colab": {
          "base_uri": "https://localhost:8080/"
        },
        "id": "MSjXgaahSQwI",
        "outputId": "c878f1e9-1dec-4be4-ae4b-fc2a69c34c30"
      },
      "outputs": [
        {
          "output_type": "stream",
          "name": "stdout",
          "text": [
            "Gain at 95% confidence interval is: [-0.0258  0.0266]\n"
          ]
        }
      ],
      "source": [
        "glaxo_df_ci = stats.norm.interval(0.95,\n",
        "loc = glaxo_df.gain.mean(),\n",
        "scale = glaxo_df.gain.std())\n",
        "print( 'Gain at 95% confidence interval is:', np.round(glaxo_df_ci, 4))"
      ]
    },
    {
      "cell_type": "code",
      "execution_count": 4,
      "metadata": {
        "ExecuteTime": {
          "end_time": "2022-12-09T04:41:59.721149Z",
          "start_time": "2022-12-09T04:41:59.702295Z"
        },
        "colab": {
          "base_uri": "https://localhost:8080/"
        },
        "id": "m42q-OnTSQwK",
        "outputId": "606edebf-c968-412a-830c-79509a3dfae5"
      },
      "outputs": [
        {
          "output_type": "stream",
          "name": "stdout",
          "text": [
            "Gain at 90% confidence interval is: [-0.0216  0.0224]\n"
          ]
        }
      ],
      "source": [
        "glaxo_df_ci = stats.norm.interval(0.90,\n",
        "loc = glaxo_df.gain.mean(),\n",
        "scale = glaxo_df.gain.std())\n",
        "print( 'Gain at 90% confidence interval is:', np.round(glaxo_df_ci, 4))"
      ]
    },
    {
      "cell_type": "code",
      "execution_count": 5,
      "metadata": {
        "ExecuteTime": {
          "end_time": "2022-12-09T04:42:06.505053Z",
          "start_time": "2022-12-09T04:42:06.494667Z"
        },
        "colab": {
          "base_uri": "https://localhost:8080/"
        },
        "id": "onZQwRSvSQwL",
        "outputId": "4477b8a2-0de6-470d-d831-fcac89fc4bd2"
      },
      "outputs": [
        {
          "output_type": "stream",
          "name": "stdout",
          "text": [
            "Gain at 99% confidence interval is: [-0.034   0.0348]\n"
          ]
        }
      ],
      "source": [
        "glaxo_df_ci = stats.norm.interval(0.99,\n",
        "loc = glaxo_df.gain.mean(),\n",
        "scale = glaxo_df.gain.std())\n",
        "print( 'Gain at 99% confidence interval is:', np.round(glaxo_df_ci, 4))"
      ]
    },
    {
      "cell_type": "code",
      "execution_count": 6,
      "metadata": {
        "ExecuteTime": {
          "end_time": "2022-11-04T07:01:47.884878Z",
          "start_time": "2022-11-04T07:01:47.840001Z"
        },
        "colab": {
          "base_uri": "https://localhost:8080/"
        },
        "id": "pr8AQgIPSQwN",
        "outputId": "a66e3a10-8954-410a-e571-027a2878603f"
      },
      "outputs": [
        {
          "output_type": "stream",
          "name": "stdout",
          "text": [
            "Gain at 95% confidence interval is: [-0.0515  0.0521]\n"
          ]
        }
      ],
      "source": [
        "beml_df=pd.read_csv('beml_df.csv')\n",
        "\n",
        "beml_df_ci = stats. norm.interval(0.95,\n",
        "loc=beml_df.gain.mean(),\n",
        "scale=beml_df.gain.std())\n",
        "print( 'Gain at 95% confidence interval is:', np.round(beml_df_ci, 4))"
      ]
    },
    {
      "cell_type": "code",
      "execution_count": 14,
      "metadata": {
        "ExecuteTime": {
          "end_time": "2022-12-09T05:07:05.768253Z",
          "start_time": "2022-12-09T05:07:05.742445Z"
        },
        "colab": {
          "base_uri": "https://localhost:8080/"
        },
        "id": "J8w0WKK3SQwO",
        "outputId": "ba4cde28-0353-499f-ae6d-fdca80fbeb63"
      },
      "outputs": [
        {
          "output_type": "execute_result",
          "data": {
            "text/plain": [
              "1.959963984540054"
            ]
          },
          "metadata": {},
          "execution_count": 14
        }
      ],
      "source": [
        "stats.norm.ppf(0.975)"
      ]
    },
    {
      "cell_type": "code",
      "execution_count": 8,
      "metadata": {
        "ExecuteTime": {
          "end_time": "2022-12-09T05:07:55.013039Z",
          "start_time": "2022-12-09T05:07:54.989901Z"
        },
        "colab": {
          "base_uri": "https://localhost:8080/"
        },
        "id": "HEoK9P4BSQwQ",
        "outputId": "9f58fa91-41dd-419f-d905-c67b8afb32d0"
      },
      "outputs": [
        {
          "output_type": "execute_result",
          "data": {
            "text/plain": [
              "2.5758293035489004"
            ]
          },
          "metadata": {},
          "execution_count": 8
        }
      ],
      "source": [
        "stats.norm.ppf(0.995)"
      ]
    },
    {
      "cell_type": "code",
      "execution_count": 9,
      "metadata": {
        "ExecuteTime": {
          "end_time": "2022-12-09T05:08:37.905634Z",
          "start_time": "2022-12-09T05:08:37.887066Z"
        },
        "colab": {
          "base_uri": "https://localhost:8080/"
        },
        "id": "ew5r-yRQSQwS",
        "outputId": "f2c80b5b-c674-4894-b523-4599a5456680"
      },
      "outputs": [
        {
          "output_type": "execute_result",
          "data": {
            "text/plain": [
              "1.6448536269514722"
            ]
          },
          "metadata": {},
          "execution_count": 9
        }
      ],
      "source": [
        "stats.norm.ppf(0.95)"
      ]
    },
    {
      "cell_type": "code",
      "execution_count": 10,
      "metadata": {
        "ExecuteTime": {
          "end_time": "2022-12-09T05:10:21.672160Z",
          "start_time": "2022-12-09T05:10:21.651543Z"
        },
        "colab": {
          "base_uri": "https://localhost:8080/"
        },
        "id": "Zb2Q9LY0SQwU",
        "outputId": "4c58b004-151d-4272-c1fa-c0aa821b0ec3"
      },
      "outputs": [
        {
          "output_type": "execute_result",
          "data": {
            "text/plain": [
              "1.2815515655446004"
            ]
          },
          "metadata": {},
          "execution_count": 10
        }
      ],
      "source": [
        "stats.norm.ppf(0.90)"
      ]
    },
    {
      "cell_type": "code",
      "execution_count": 11,
      "metadata": {
        "ExecuteTime": {
          "end_time": "2022-12-09T05:24:36.038350Z",
          "start_time": "2022-12-09T05:24:36.022802Z"
        },
        "colab": {
          "base_uri": "https://localhost:8080/"
        },
        "id": "gNr0Z8mcSQwV",
        "outputId": "ee7762ae-c21d-4612-d5d8-853527324414"
      },
      "outputs": [
        {
          "output_type": "execute_result",
          "data": {
            "text/plain": [
              "1.977177724476122"
            ]
          },
          "metadata": {},
          "execution_count": 11
        }
      ],
      "source": [
        "stats.t.ppf(0.975,139)"
      ]
    },
    {
      "cell_type": "code",
      "execution_count": 12,
      "metadata": {
        "ExecuteTime": {
          "end_time": "2022-12-09T05:28:09.518512Z",
          "start_time": "2022-12-09T05:28:09.495643Z"
        },
        "colab": {
          "base_uri": "https://localhost:8080/"
        },
        "id": "Lpj_uTB_SQwX",
        "outputId": "68beb2c7-e072-4a12-c7b8-81fcf4f8134d"
      },
      "outputs": [
        {
          "output_type": "execute_result",
          "data": {
            "text/plain": [
              "(-0.025818392673533995, 0.026590474838718584)"
            ]
          },
          "metadata": {},
          "execution_count": 12
        }
      ],
      "source": [
        "stats.t.interval(0.95,1737 ,glaxo_df.gain.mean() , glaxo_df.gain.std())"
      ]
    },
    {
      "cell_type": "code",
      "execution_count": 13,
      "metadata": {
        "ExecuteTime": {
          "end_time": "2022-11-04T07:32:23.080322Z",
          "start_time": "2022-11-04T07:32:23.073900Z"
        },
        "colab": {
          "base_uri": "https://localhost:8080/"
        },
        "id": "IV0TW865SQwY",
        "outputId": "9eb614f5-ca20-4054-8f8f-808385063890"
      },
      "outputs": [
        {
          "output_type": "execute_result",
          "data": {
            "text/plain": [
              "(-0.05156885177136772, 0.05211034792948219)"
            ]
          },
          "metadata": {},
          "execution_count": 13
        }
      ],
      "source": [
        "stats.t.interval(0.95,1737 ,beml_df.gain.mean() , beml_df.gain.std())"
      ]
    },
    {
      "cell_type": "code",
      "source": [
        "stats.t.ppf(0.975,139)"
      ],
      "metadata": {
        "colab": {
          "base_uri": "https://localhost:8080/"
        },
        "id": "GsXUrodac286",
        "outputId": "c4b9c5ca-3b75-400f-9299-f81a859f70d8"
      },
      "execution_count": 15,
      "outputs": [
        {
          "output_type": "execute_result",
          "data": {
            "text/plain": [
              "1.977177724476122"
            ]
          },
          "metadata": {},
          "execution_count": 15
        }
      ]
    },
    {
      "cell_type": "code",
      "source": [],
      "metadata": {
        "id": "Y8xDdmF_c7u7"
      },
      "execution_count": null,
      "outputs": []
    }
  ],
  "metadata": {
    "kernelspec": {
      "display_name": "Python 3 (ipykernel)",
      "language": "python",
      "name": "python3"
    },
    "language_info": {
      "codemirror_mode": {
        "name": "ipython",
        "version": 3
      },
      "file_extension": ".py",
      "mimetype": "text/x-python",
      "name": "python",
      "nbconvert_exporter": "python",
      "pygments_lexer": "ipython3",
      "version": "3.9.7"
    },
    "colab": {
      "provenance": [],
      "include_colab_link": true
    }
  },
  "nbformat": 4,
  "nbformat_minor": 0
}